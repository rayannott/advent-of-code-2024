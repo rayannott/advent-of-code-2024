{
 "cells": [
  {
   "cell_type": "code",
   "execution_count": 1,
   "metadata": {
    "metadata": {}
   },
   "outputs": [],
   "source": [
    "import re\n",
    "import math\n",
    "import itertools\n",
    "import pathlib\n",
    "\n",
    "DIR = pathlib.Path(\"inputs\")\n",
    "INPUT = DIR / \"3.txt\""
   ]
  },
  {
   "cell_type": "code",
   "execution_count": 2,
   "metadata": {
    "metadata": {}
   },
   "outputs": [],
   "source": [
    "DATA = INPUT.read_text()"
   ]
  },
  {
   "cell_type": "code",
   "execution_count": 3,
   "metadata": {
    "metadata": {}
   },
   "outputs": [],
   "source": [
    "OPER_RE = re.compile(r\"mul\\((\\d{1,3}),(\\d{1,3})\\)\")"
   ]
  },
  {
   "cell_type": "code",
   "execution_count": 4,
   "metadata": {
    "metadata": {}
   },
   "outputs": [],
   "source": [
    "def mul_match_to_value(m: re.Match) -> int:\n",
    "    return math.prod(map(int, m.groups()))"
   ]
  },
  {
   "cell_type": "code",
   "execution_count": 5,
   "metadata": {
    "metadata": {}
   },
   "outputs": [
    {
     "data": {
      "text/plain": [
       "178794710"
      ]
     },
     "execution_count": 5,
     "metadata": {},
     "output_type": "execute_result"
    }
   ],
   "source": [
    "sum(map(mul_match_to_value, OPER_RE.finditer(DATA)))"
   ]
  },
  {
   "cell_type": "code",
   "execution_count": 6,
   "metadata": {
    "metadata": {}
   },
   "outputs": [],
   "source": [
    "DO_DONT_RE = re.compile(r\"do(n't)?\\(\\)\")"
   ]
  },
  {
   "cell_type": "code",
   "execution_count": 7,
   "metadata": {
    "metadata": {}
   },
   "outputs": [],
   "source": [
    "all_directives = sorted(\n",
    "    itertools.chain(\n",
    "        OPER_RE.finditer(DATA),\n",
    "        DO_DONT_RE.finditer(DATA),\n",
    "    ),\n",
    "    key=lambda m: m.span()[0],\n",
    ")"
   ]
  },
  {
   "cell_type": "code",
   "execution_count": 8,
   "metadata": {
    "metadata": {}
   },
   "outputs": [
    {
     "data": {
      "text/plain": [
       "76729637"
      ]
     },
     "execution_count": 8,
     "metadata": {},
     "output_type": "execute_result"
    }
   ],
   "source": [
    "enabled = True\n",
    "res = 0\n",
    "\n",
    "for m in all_directives:\n",
    "    matched_string = DATA[slice(*m.span())]\n",
    "    if matched_string.startswith('mul'):\n",
    "        res += enabled * mul_match_to_value(m)\n",
    "    else:\n",
    "        enabled = matched_string == 'do()'\n",
    "\n",
    "res"
   ]
  }
 ],
 "metadata": {
  "kernelspec": {
   "display_name": "torchvenv",
   "language": "python",
   "name": "python3"
  },
  "language_info": {
   "codemirror_mode": {
    "name": "ipython",
    "version": 3
   },
   "file_extension": ".py",
   "mimetype": "text/x-python",
   "name": "python",
   "nbconvert_exporter": "python",
   "pygments_lexer": "ipython3",
   "version": "3.12.1"
  }
 },
 "nbformat": 4,
 "nbformat_minor": 2
}
