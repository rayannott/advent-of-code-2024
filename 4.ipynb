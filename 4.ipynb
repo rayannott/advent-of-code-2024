{
 "cells": [
  {
   "cell_type": "code",
   "execution_count": 1,
   "metadata": {
    "metadata": {}
   },
   "outputs": [],
   "source": [
    "import itertools\n",
    "import pathlib\n",
    "\n",
    "DIR = pathlib.Path(\"inputs\")\n",
    "INPUT = DIR / \"4.txt\"\n",
    "\n",
    "DATA = INPUT.read_text()"
   ]
  },
  {
   "cell_type": "code",
   "execution_count": 2,
   "metadata": {
    "metadata": {}
   },
   "outputs": [],
   "source": [
    "MATRIX = DATA.strip().split(\"\\n\")"
   ]
  },
  {
   "cell_type": "code",
   "execution_count": 3,
   "metadata": {
    "metadata": {}
   },
   "outputs": [],
   "source": [
    "HEIGHT = len(MATRIX)\n",
    "WIDTH = len(MATRIX[0])"
   ]
  },
  {
   "cell_type": "code",
   "execution_count": 4,
   "metadata": {
    "metadata": {}
   },
   "outputs": [
    {
     "data": {
      "text/plain": [
       "[(-1, -1), (-1, 0), (-1, 1), (0, -1), (0, 1), (1, -1), (1, 0), (1, 1)]"
      ]
     },
     "execution_count": 4,
     "metadata": {},
     "output_type": "execute_result"
    }
   ],
   "source": [
    "SEARCH_DIRECTIONS = list(itertools.product(range(-1, 2), repeat=2))\n",
    "SEARCH_DIRECTIONS.remove((0, 0))\n",
    "SEARCH_DIRECTIONS"
   ]
  },
  {
   "cell_type": "code",
   "execution_count": 5,
   "metadata": {
    "metadata": {}
   },
   "outputs": [],
   "source": [
    "def get_word_directions(i: int, j: int) -> list[list[str]]:\n",
    "    stop_direction = False\n",
    "    ch1 = MATRIX[i][j]\n",
    "    if ch1 != 'X':\n",
    "        return []\n",
    "    words = []\n",
    "    for di, dj in SEARCH_DIRECTIONS:\n",
    "        stop_direction = False\n",
    "        this_word = [ch1]\n",
    "        i_n, j_n = i, j\n",
    "        for _ in range(3):\n",
    "            i_n, j_n = i_n + di, j_n + dj\n",
    "            if not (0 <= i_n < HEIGHT and 0 <= j_n < WIDTH):\n",
    "                stop_direction = True\n",
    "                continue\n",
    "            this_word.append(MATRIX[i_n][j_n])\n",
    "        if stop_direction:\n",
    "            continue\n",
    "        words.append(this_word)\n",
    "    return words"
   ]
  },
  {
   "cell_type": "code",
   "execution_count": 6,
   "metadata": {
    "metadata": {}
   },
   "outputs": [
    {
     "data": {
      "text/plain": [
       "2496"
      ]
     },
     "execution_count": 6,
     "metadata": {},
     "output_type": "execute_result"
    }
   ],
   "source": [
    "cnt = 0\n",
    "\n",
    "for i in range(HEIGHT):\n",
    "    for j in range(WIDTH):\n",
    "        cnt += get_word_directions(i, j).count([\"X\", \"M\", \"A\", \"S\"])\n",
    "\n",
    "cnt"
   ]
  },
  {
   "cell_type": "code",
   "execution_count": 7,
   "metadata": {
    "metadata": {}
   },
   "outputs": [],
   "source": [
    "def get_x(i: int, j: int) -> list[list[str]]:\n",
    "    if i in {0, HEIGHT-1} or j in {0, WIDTH-1}:\n",
    "        return []\n",
    "    return [\n",
    "        [MATRIX[i-1][j-1], MATRIX[i][j], MATRIX[i+1][j+1]],\n",
    "        [MATRIX[i+1][j-1], MATRIX[i][j], MATRIX[i-1][j+1]],\n",
    "    ]\n",
    "\n",
    "\n",
    "def check(word: list[str]) -> bool:\n",
    "    return word == [\"M\", \"A\", \"S\"] or word == [\"S\", \"A\", \"M\"]"
   ]
  },
  {
   "cell_type": "code",
   "execution_count": 8,
   "metadata": {
    "metadata": {}
   },
   "outputs": [
    {
     "data": {
      "text/plain": [
       "1967"
      ]
     },
     "execution_count": 8,
     "metadata": {},
     "output_type": "execute_result"
    }
   ],
   "source": [
    "cnt_pt2 = 0\n",
    "\n",
    "for i in range(HEIGHT):\n",
    "    for j in range(WIDTH):\n",
    "        this_x = get_x(i, j)\n",
    "        cnt_pt2 += check(this_x[0]) and check(this_x[1]) if this_x else 0\n",
    "cnt_pt2"
   ]
  }
 ],
 "metadata": {
  "kernelspec": {
   "display_name": "torchvenv",
   "language": "python",
   "name": "python3"
  },
  "language_info": {
   "codemirror_mode": {
    "name": "ipython",
    "version": 3
   },
   "file_extension": ".py",
   "mimetype": "text/x-python",
   "name": "python",
   "nbconvert_exporter": "python",
   "pygments_lexer": "ipython3",
   "version": "3.11.2"
  }
 },
 "nbformat": 4,
 "nbformat_minor": 2
}
