{
 "cells": [
  {
   "cell_type": "code",
   "execution_count": 1,
   "metadata": {
    "metadata": {}
   },
   "outputs": [],
   "source": [
    "import pathlib\n",
    "\n",
    "DIR = pathlib.Path(\"inputs\")\n",
    "INPUT = DIR / \"8.txt\"\n",
    "\n",
    "DATA = INPUT.read_text()"
   ]
  },
  {
   "cell_type": "code",
   "execution_count": 2,
   "metadata": {
    "metadata": {}
   },
   "outputs": [],
   "source": [
    "import collections\n",
    "import itertools\n",
    "import typing"
   ]
  },
  {
   "cell_type": "code",
   "execution_count": 3,
   "metadata": {
    "metadata": {}
   },
   "outputs": [],
   "source": [
    "MATRIX = [list(line) for line in DATA.strip().split(\"\\n\")]\n",
    "HEIGHT = len(MATRIX)\n",
    "WIDTH = len(MATRIX[0])"
   ]
  },
  {
   "cell_type": "code",
   "execution_count": 4,
   "metadata": {
    "metadata": {}
   },
   "outputs": [],
   "source": [
    "Point = tuple[int, int]\n",
    "\n",
    "def sub(p1: Point, p2: Point) -> Point:\n",
    "    return p1[0] - p2[0], p1[1] - p2[1]\n",
    "\n",
    "def add(p1: Point, p2: Point) -> Point:\n",
    "    return p1[0] + p2[0], p1[1] + p2[1]\n",
    "\n",
    "def is_inside_matrix(p: Point) -> bool:\n",
    "    return 0 <= p[0] < HEIGHT and 0 <= p[1] < WIDTH"
   ]
  },
  {
   "cell_type": "code",
   "execution_count": 5,
   "metadata": {
    "metadata": {}
   },
   "outputs": [],
   "source": [
    "def antenna_groups() -> dict[str, list[Point]]:\n",
    "    groups = collections.defaultdict(list)\n",
    "\n",
    "    for i, row in enumerate(MATRIX):\n",
    "        for j, el in enumerate(row):\n",
    "            if el == \".\":\n",
    "                continue\n",
    "            groups[el].append((i, j))\n",
    "\n",
    "    return groups\n",
    "\n",
    "\n",
    "def all_antinodes(antinodes_fn: typing.Callable[[Point, Point], list[Point]]) -> set[Point]:\n",
    "    res = set()\n",
    "    gs = antenna_groups()\n",
    "    for _, antenna in gs.items():\n",
    "        for antenna_pair in itertools.combinations(antenna, 2):\n",
    "            res.update(antinodes_fn(*antenna_pair))\n",
    "    return res"
   ]
  },
  {
   "cell_type": "code",
   "execution_count": 6,
   "metadata": {
    "metadata": {}
   },
   "outputs": [],
   "source": [
    "def antinodes(p1: Point, p2: Point) -> list[Point]:\n",
    "    res = []\n",
    "    delta = sub(p1, p2)\n",
    "    an1 = add(p1, delta)\n",
    "    an2 = sub(p2, delta)\n",
    "    if is_inside_matrix(an1):\n",
    "        res.append(an1)\n",
    "    if is_inside_matrix(an2):\n",
    "        res.append(an2)\n",
    "    return res\n"
   ]
  },
  {
   "cell_type": "code",
   "execution_count": 7,
   "metadata": {
    "metadata": {}
   },
   "outputs": [
    {
     "data": {
      "text/plain": [
       "327"
      ]
     },
     "execution_count": 7,
     "metadata": {},
     "output_type": "execute_result"
    }
   ],
   "source": [
    "res = all_antinodes(antinodes)\n",
    "len(res)"
   ]
  },
  {
   "cell_type": "code",
   "execution_count": 8,
   "metadata": {
    "metadata": {}
   },
   "outputs": [],
   "source": [
    "def antinodes_extended(p1: Point, p2: Point) -> list[Point]:\n",
    "    res = [p1, p2]\n",
    "    delta = sub(p1, p2)\n",
    "    an1 = p1\n",
    "    an2 = p2\n",
    "    while is_inside_matrix(an1):\n",
    "        res.append(an1)\n",
    "        an1 = add(an1, delta)\n",
    "    while is_inside_matrix(an2):\n",
    "        res.append(an2)\n",
    "        an2 = sub(an2, delta)\n",
    "    return res"
   ]
  },
  {
   "cell_type": "code",
   "execution_count": 9,
   "metadata": {
    "metadata": {}
   },
   "outputs": [
    {
     "data": {
      "text/plain": [
       "1233"
      ]
     },
     "execution_count": 9,
     "metadata": {},
     "output_type": "execute_result"
    }
   ],
   "source": [
    "res_ext = all_antinodes(antinodes_extended)\n",
    "len(res_ext)"
   ]
  }
 ],
 "metadata": {
  "kernelspec": {
   "display_name": "torchvenv",
   "language": "python",
   "name": "python3"
  },
  "language_info": {
   "codemirror_mode": {
    "name": "ipython",
    "version": 3
   },
   "file_extension": ".py",
   "mimetype": "text/x-python",
   "name": "python",
   "nbconvert_exporter": "python",
   "pygments_lexer": "ipython3",
   "version": "3.12.1"
  }
 },
 "nbformat": 4,
 "nbformat_minor": 2
}
