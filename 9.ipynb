{
 "cells": [
  {
   "cell_type": "code",
   "execution_count": 1,
   "metadata": {
    "metadata": {}
   },
   "outputs": [],
   "source": [
    "import pathlib\n",
    "import itertools"
   ]
  },
  {
   "cell_type": "code",
   "execution_count": 2,
   "metadata": {
    "metadata": {}
   },
   "outputs": [],
   "source": [
    "DIR = pathlib.Path(\"inputs\")\n",
    "INPUT = DIR / \"9.txt\"\n",
    "\n",
    "DATA = INPUT.read_text().strip()"
   ]
  },
  {
   "cell_type": "code",
   "execution_count": 3,
   "metadata": {
    "metadata": {}
   },
   "outputs": [],
   "source": [
    "def expand_blocks(blocks: str) -> list[str]:\n",
    "    blocks += '0' if len(blocks) % 2 == 1 else ''\n",
    "    res = []\n",
    "    for i, (data, blank) in enumerate(itertools.batched(map(int, blocks), 2)):\n",
    "        res.extend(itertools.repeat(str(i), times=data))\n",
    "        res.extend(itertools.repeat(\".\", blank))\n",
    "    return res\n",
    "\n",
    "def rearrange_memory(line_i: list[str]) -> list[str]:\n",
    "    line = line_i.copy()\n",
    "    i, j = 0, len(line) - 1\n",
    "    while i < j:\n",
    "        while line[i] != \".\":\n",
    "            i += 1\n",
    "        while line[j] == \".\":\n",
    "            j -= 1\n",
    "        line[i] = line[j]\n",
    "        line[j] = \".\"\n",
    "    line[j] = line[i]\n",
    "    line[i] = \".\"\n",
    "    return line\n",
    "\n",
    "\n",
    "def checksum(line: list[str]) -> int:\n",
    "    return sum(i * int(ch) for i, ch in enumerate(line) if ch != \".\")\n",
    "\n",
    "def join(s):\n",
    "    return ''.join(s)"
   ]
  },
  {
   "cell_type": "code",
   "execution_count": 4,
   "metadata": {
    "metadata": {}
   },
   "outputs": [],
   "source": [
    "expanded = expand_blocks(DATA)"
   ]
  },
  {
   "cell_type": "code",
   "execution_count": 5,
   "metadata": {
    "metadata": {}
   },
   "outputs": [],
   "source": [
    "rearranged = rearrange_memory(expanded)"
   ]
  },
  {
   "cell_type": "code",
   "execution_count": 6,
   "metadata": {
    "metadata": {}
   },
   "outputs": [
    {
     "data": {
      "text/plain": [
       "6519155389266"
      ]
     },
     "execution_count": 6,
     "metadata": {},
     "output_type": "execute_result"
    }
   ],
   "source": [
    "checksum(rearranged)"
   ]
  },
  {
   "cell_type": "code",
   "execution_count": 7,
   "metadata": {
    "metadata": {}
   },
   "outputs": [],
   "source": [
    "def get_data_blanks(blocks: str) -> tuple[list[list[int]], list[list[int]]]:\n",
    "    blanks = []\n",
    "    data = []\n",
    "    curr = 0\n",
    "    for i, ch in enumerate(map(int, blocks)):\n",
    "        if ch == 0:\n",
    "            continue\n",
    "        [data, blanks][i % 2].append([curr, ch])\n",
    "        curr += ch\n",
    "    return data[::-1], blanks"
   ]
  },
  {
   "cell_type": "code",
   "execution_count": 8,
   "metadata": {
    "metadata": {}
   },
   "outputs": [],
   "source": [
    "def process(blocks: str) -> list[str]:\n",
    "    def leftmost_available_blank(for_size: int, before: int) -> int | None:\n",
    "        for i in range(len(blanks)):\n",
    "            start_idx, size = blanks[i]\n",
    "            if start_idx >= before:\n",
    "                return None\n",
    "            if for_size <= size:\n",
    "                blanks[i][1] -= for_size\n",
    "                blanks[i][0] += for_size\n",
    "                return start_idx\n",
    "        return None\n",
    "    \n",
    "    line = expand_blocks(blocks)\n",
    "\n",
    "    data, blanks = get_data_blanks(blocks)\n",
    "\n",
    "    for start_idx, size in data:\n",
    "        stick_to = leftmost_available_blank(size, start_idx)\n",
    "        if stick_to is None:\n",
    "            continue\n",
    "        val = line[start_idx]\n",
    "        for idx in range(stick_to, stick_to + size):\n",
    "            line[idx] = val\n",
    "        for idx in range(start_idx, start_idx + size):\n",
    "            line[idx] = '.'\n",
    "    return line"
   ]
  },
  {
   "cell_type": "code",
   "execution_count": 9,
   "metadata": {
    "metadata": {}
   },
   "outputs": [],
   "source": [
    "res = process(DATA)\n",
    "cs = checksum(res)"
   ]
  },
  {
   "cell_type": "code",
   "execution_count": 10,
   "metadata": {
    "metadata": {}
   },
   "outputs": [
    {
     "data": {
      "text/plain": [
       "6547228115826"
      ]
     },
     "execution_count": 10,
     "metadata": {},
     "output_type": "execute_result"
    }
   ],
   "source": [
    "cs"
   ]
  }
 ],
 "metadata": {
  "kernelspec": {
   "display_name": "torchvenv",
   "language": "python",
   "name": "python3"
  },
  "language_info": {
   "codemirror_mode": {
    "name": "ipython",
    "version": 3
   },
   "file_extension": ".py",
   "mimetype": "text/x-python",
   "name": "python",
   "nbconvert_exporter": "python",
   "pygments_lexer": "ipython3",
   "version": "3.12.1"
  }
 },
 "nbformat": 4,
 "nbformat_minor": 2
}
