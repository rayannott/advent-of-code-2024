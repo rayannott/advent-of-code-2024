{
 "cells": [
  {
   "cell_type": "code",
   "execution_count": 1,
   "metadata": {
    "metadata": {}
   },
   "outputs": [],
   "source": [
    "import pathlib\n",
    "import itertools\n",
    "import operator"
   ]
  },
  {
   "cell_type": "code",
   "execution_count": null,
   "metadata": {
    "metadata": {}
   },
   "outputs": [
    {
     "data": {
      "text/plain": [
       "'2289937361'"
      ]
     },
     "execution_count": 2,
     "metadata": {},
     "output_type": "execute_result"
    }
   ],
   "source": [
    "DIR = pathlib.Path(\"inputs\")\n",
    "INPUT = DIR / \"9.txt\"\n",
    "\n",
    "DATA = INPUT.read_text().strip() + '0'"
   ]
  },
  {
   "cell_type": "code",
   "execution_count": 55,
   "metadata": {
    "metadata": {}
   },
   "outputs": [],
   "source": [
    "def expand_blocks(blocks: str) -> list[str]:\n",
    "    res = []\n",
    "    for i, (data, blank) in enumerate(itertools.batched(map(int, blocks), 2)):\n",
    "        res.extend(itertools.repeat(str(i), times=data))\n",
    "        res.extend(itertools.repeat(\".\", blank))\n",
    "    return res\n",
    "\n",
    "def rearrange_memory(line_i: list[str]) -> list[str]:\n",
    "    line = line_i.copy()\n",
    "    i, j = 0, len(line) - 1\n",
    "    while i < j:\n",
    "        while line[i] != \".\":\n",
    "            i += 1\n",
    "        while line[j] == \".\":\n",
    "            j -= 1\n",
    "        line[i] = line[j]\n",
    "        line[j] = \".\"\n",
    "    line[j] = line[i]\n",
    "    line[i] = \".\"\n",
    "    return line\n",
    "\n",
    "\n",
    "def checksum(line: list[str]) -> int:\n",
    "    return sum(i * int(ch) for i, ch in enumerate(line) if ch != \".\")\n",
    "\n",
    "def join(s):\n",
    "    return ''.join(s)"
   ]
  },
  {
   "cell_type": "code",
   "execution_count": null,
   "metadata": {},
   "outputs": [],
   "source": []
  },
  {
   "cell_type": "code",
   "execution_count": 4,
   "metadata": {
    "metadata": {}
   },
   "outputs": [],
   "source": [
    "expanded = expand_blocks(DATA)"
   ]
  },
  {
   "cell_type": "code",
   "execution_count": 5,
   "metadata": {
    "metadata": {}
   },
   "outputs": [],
   "source": [
    "rearranged = rearrange_memory(expanded)"
   ]
  },
  {
   "cell_type": "code",
   "execution_count": 6,
   "metadata": {
    "metadata": {}
   },
   "outputs": [
    {
     "data": {
      "text/plain": [
       "6519155389266"
      ]
     },
     "execution_count": 6,
     "metadata": {},
     "output_type": "execute_result"
    }
   ],
   "source": [
    "checksum(rearranged)"
   ]
  },
  {
   "cell_type": "code",
   "execution_count": 56,
   "metadata": {
    "metadata": {}
   },
   "outputs": [
    {
     "data": {
      "text/plain": [
       "'00...111...2...333.44.5555.6666.777.888899'"
      ]
     },
     "execution_count": 56,
     "metadata": {},
     "output_type": "execute_result"
    }
   ],
   "source": [
    "join(expand_blocks('23331331214141314020'))"
   ]
  },
  {
   "cell_type": "code",
   "execution_count": 48,
   "metadata": {
    "metadata": {}
   },
   "outputs": [],
   "source": [
    "def get_data_blanks(blocks: str) -> tuple[list[list[int]], list[list[int]]]:\n",
    "    blanks = []\n",
    "    data = []\n",
    "    curr = 0\n",
    "    for i, ch in enumerate(map(int, blocks)):\n",
    "        [data, blanks][i % 2].append([curr, ch])\n",
    "        curr += ch\n",
    "    return data, blanks[::-1]"
   ]
  },
  {
   "cell_type": "code",
   "execution_count": 53,
   "metadata": {
    "metadata": {}
   },
   "outputs": [],
   "source": [
    "def process(blocks: str) -> list[str]:\n",
    "    def leftmost_available_blank(for_size: int, before: int) -> int | None:\n",
    "        for i in range(len(blanks)):\n",
    "            start_idx, size = blanks[i]\n",
    "            if start_idx >= before:\n",
    "                return None\n",
    "            if for_size <= size:\n",
    "                blanks[i][1] -= for_size\n",
    "                blanks[i][0] += for_size\n",
    "                return start_idx\n",
    "        return None\n",
    "    \n",
    "    line = expand_blocks(blocks)\n",
    "    print(line)\n",
    "\n",
    "    data, blanks = get_data_blanks(blocks)\n",
    "    print(data, blanks)\n",
    "\n",
    "    for start_idx, size in data:\n",
    "        stick_to = leftmost_available_blank(size, start_idx)\n",
    "        if stick_to is None:\n",
    "            continue\n",
    "        val = line[start_idx]\n",
    "        for idx in range(stick_to, stick_to + size):\n",
    "            line[idx] = val\n",
    "        for idx in range(start_idx, start_idx + size):\n",
    "            line[idx] = '.'\n",
    "    return line\n",
    "\n",
    "\n",
    "def join(s: list[str]) -> str:\n",
    "    return ''.join(s)"
   ]
  },
  {
   "cell_type": "code",
   "execution_count": null,
   "metadata": {},
   "outputs": [],
   "source": []
  },
  {
   "cell_type": "code",
   "execution_count": 54,
   "metadata": {
    "metadata": {}
   },
   "outputs": [
    {
     "name": "stdout",
     "output_type": "stream",
     "text": [
      "['0', '0', '.', '.', '.', '1', '1', '1', '.', '.', '.', '2', '.', '.', '.', '3', '3', '3', '.', '4', '4', '.', '5', '5', '5', '5', '.', '6', '6', '6', '6', '.', '7', '7', '7', '.', '8', '8', '8', '8', '9', '9']\n",
      "[[0, 2], [5, 3], [11, 1], [15, 3], [19, 2], [22, 4], [27, 4], [32, 3], [36, 4], [40, 2]] [[42, 0], [40, 0], [35, 1], [31, 1], [26, 1], [21, 1], [18, 1], [12, 3], [8, 3], [2, 3]]\n"
     ]
    },
    {
     "data": {
      "text/plain": [
       "['0',\n",
       " '0',\n",
       " '.',\n",
       " '.',\n",
       " '.',\n",
       " '1',\n",
       " '1',\n",
       " '1',\n",
       " '.',\n",
       " '.',\n",
       " '.',\n",
       " '2',\n",
       " '.',\n",
       " '.',\n",
       " '.',\n",
       " '3',\n",
       " '3',\n",
       " '3',\n",
       " '.',\n",
       " '4',\n",
       " '4',\n",
       " '.',\n",
       " '5',\n",
       " '5',\n",
       " '5',\n",
       " '5',\n",
       " '.',\n",
       " '6',\n",
       " '6',\n",
       " '6',\n",
       " '6',\n",
       " '.',\n",
       " '7',\n",
       " '7',\n",
       " '7',\n",
       " '.',\n",
       " '8',\n",
       " '8',\n",
       " '8',\n",
       " '8',\n",
       " '9',\n",
       " '9']"
      ]
     },
     "execution_count": 54,
     "metadata": {},
     "output_type": "execute_result"
    }
   ],
   "source": [
    "process('23331331214141314020')"
   ]
  },
  {
   "cell_type": "code",
   "execution_count": 8,
   "metadata": {
    "metadata": {}
   },
   "outputs": [],
   "source": [
    "res = process(expanded)"
   ]
  },
  {
   "cell_type": "code",
   "execution_count": 9,
   "metadata": {
    "metadata": {}
   },
   "outputs": [
    {
     "data": {
      "text/plain": [
       "92664902519"
      ]
     },
     "execution_count": 9,
     "metadata": {},
     "output_type": "execute_result"
    }
   ],
   "source": [
    "checksum(res)"
   ]
  },
  {
   "cell_type": "code",
   "execution_count": 35,
   "metadata": {
    "metadata": {}
   },
   "outputs": [],
   "source": [
    "import random\n",
    "\n",
    "random.seed(42)\n",
    "\n",
    "TESTS = [''.join(random.choices('0123456789', k=20)) for _ in range(20)]"
   ]
  },
  {
   "cell_type": "code",
   "execution_count": 36,
   "metadata": {
    "metadata": {}
   },
   "outputs": [
    {
     "name": "stdout",
     "output_type": "stream",
     "text": [
      "00000011..2222222......33333333444455......777777.....88.....99999999\n",
      "00000011..2222222......33333333444455......777777.....88.....99999999\n",
      "60227680402501652580 9133\n"
     ]
    }
   ],
   "source": [
    "for test in TESTS:\n",
    "    exp = expand_blocks(test)\n",
    "    proc = process(exp)\n",
    "    print(join(exp), join(proc), sep='\\n')\n",
    "    print(test, checksum(proc))\n",
    "    break"
   ]
  }
 ],
 "metadata": {
  "kernelspec": {
   "display_name": "torchvenv",
   "language": "python",
   "name": "python3"
  },
  "language_info": {
   "codemirror_mode": {
    "name": "ipython",
    "version": 3
   },
   "file_extension": ".py",
   "mimetype": "text/x-python",
   "name": "python",
   "nbconvert_exporter": "python",
   "pygments_lexer": "ipython3",
   "version": "3.12.0"
  }
 },
 "nbformat": 4,
 "nbformat_minor": 2
}
