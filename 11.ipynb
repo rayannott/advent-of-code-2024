{
 "cells": [
  {
   "cell_type": "code",
   "execution_count": 1,
   "metadata": {
    "metadata": {}
   },
   "outputs": [],
   "source": [
    "import pathlib\n",
    "\n",
    "DIR = pathlib.Path(\"inputs\")\n",
    "INPUT = DIR / \"11.txt\"\n",
    "\n",
    "DATA = INPUT.read_text()"
   ]
  },
  {
   "cell_type": "code",
   "execution_count": 2,
   "metadata": {
    "metadata": {}
   },
   "outputs": [
    {
     "data": {
      "text/plain": [
       "[5178527, 8525, 22, 376299, 3, 69312, 0, 275]"
      ]
     },
     "execution_count": 2,
     "metadata": {},
     "output_type": "execute_result"
    }
   ],
   "source": [
    "NUMBERS = list(map(int, DATA.split()))\n",
    "NUMBERS"
   ]
  },
  {
   "cell_type": "code",
   "execution_count": 3,
   "metadata": {
    "metadata": {}
   },
   "outputs": [],
   "source": [
    "import itertools\n",
    "import math"
   ]
  },
  {
   "cell_type": "code",
   "execution_count": 4,
   "metadata": {
    "metadata": {}
   },
   "outputs": [],
   "source": [
    "def n_digits(num: int) -> int:\n",
    "    return math.ceil(math.log10(num + 1))\n",
    "\n",
    "\n",
    "def blink_stone(stone: int) -> list[int]:\n",
    "    if stone == 0:\n",
    "        return [1]\n",
    "    if (ndig := n_digits(stone)) % 2 == 0:\n",
    "        splitter = 10 ** (ndig // 2)\n",
    "        return [stone // splitter, stone % splitter]\n",
    "    return [stone * 2024]\n",
    "\n",
    "\n",
    "def blink_sequence(stones: list[int]) -> list[int]:\n",
    "    return list(itertools.chain(*map(blink_stone, stones)))\n",
    "\n",
    "\n",
    "def blink_n_times(init_seq: list[int], n: int) -> list[int]:\n",
    "    seq = init_seq.copy()\n",
    "    for _ in range(n):\n",
    "        seq = blink_sequence(seq)\n",
    "    return seq"
   ]
  },
  {
   "cell_type": "code",
   "execution_count": 5,
   "metadata": {
    "metadata": {}
   },
   "outputs": [
    {
     "data": {
      "text/plain": [
       "189547"
      ]
     },
     "execution_count": 5,
     "metadata": {},
     "output_type": "execute_result"
    }
   ],
   "source": [
    "res = blink_n_times(NUMBERS, 25)\n",
    "len(res)"
   ]
  }
 ],
 "metadata": {
  "kernelspec": {
   "display_name": "Python 3",
   "language": "python",
   "name": "python3"
  },
  "language_info": {
   "codemirror_mode": {
    "name": "ipython",
    "version": 3
   },
   "file_extension": ".py",
   "mimetype": "text/x-python",
   "name": "python",
   "nbconvert_exporter": "python",
   "pygments_lexer": "ipython3",
   "version": "3.12.0"
  }
 },
 "nbformat": 4,
 "nbformat_minor": 2
}
