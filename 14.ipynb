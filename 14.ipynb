{
  "cells": [
    {
      "cell_type": "code",
      "execution_count": 2,
      "metadata": {
        "metadata": {}
      },
      "outputs": [],
      "source": [
        "import pathlib\n",
        "\n",
        "DIR = pathlib.Path(\"inputs\")\n",
        "INPUT = DIR / \"14.txt\"\n",
        "\n",
        "DATA = INPUT.read_text()"
      ]
    },
    {
      "cell_type": "code",
      "execution_count": 3,
      "metadata": {
        "metadata": {}
      },
      "outputs": [],
      "source": [
        "HEIGHT = 103\n",
        "WIDTH = 101\n"
      ]
    },
    {
      "cell_type": "code",
      "execution_count": 4,
      "metadata": {
        "metadata": {}
      },
      "outputs": [],
      "source": [
        "import re\n",
        "from dataclasses import dataclass\n",
        "\n",
        "\n",
        "ROBOT_INIT_RE = re.compile(r\"p=(\\d+),(\\d+) v=(-?\\d+),(-?\\d+)\")"
      ]
    },
    {
      "cell_type": "code",
      "execution_count": 5,
      "metadata": {
        "metadata": {}
      },
      "outputs": [],
      "source": [
        "Point = tuple[int, int]\n",
        "\n",
        "\n",
        "def sub(p1: Point, p2: Point) -> Point:\n",
        "    return p1[0] - p2[0], p1[1] - p2[1]\n",
        "\n",
        "\n",
        "def add(p1: Point, p2: Point) -> Point:\n",
        "    return p1[0] + p2[0], p1[1] + p2[1]\n",
        "\n",
        "\n",
        "@dataclass\n",
        "class Robot:\n",
        "    pos: Point\n",
        "    vel: Point\n",
        "\n",
        "    @staticmethod\n",
        "    def wrap_pos(pos: Point) -> Point:        \n",
        "        return pos[0] % WIDTH, pos[1] % HEIGHT\n",
        "\n",
        "    def step(self):\n",
        "        self.pos = self.wrap_pos(add(self.pos, self.vel))\n",
        "\n",
        "    @classmethod\n",
        "    def from_line(cls, line: str) -> \"Robot\":\n",
        "        match = ROBOT_INIT_RE.match(line)\n",
        "        assert match\n",
        "        p_v_str = match.groups()\n",
        "        return Robot(\n",
        "            (int(p_v_str[0]), int(p_v_str[1])), (int(p_v_str[2]), int(p_v_str[3]))\n",
        "        )\n"
      ]
    },
    {
      "cell_type": "code",
      "execution_count": 6,
      "metadata": {
        "metadata": {}
      },
      "outputs": [],
      "source": [
        "def matrix_from_robots(robots: list[Robot]) -> list[list[int]]:\n",
        "    matrix = [[0] * WIDTH for _ in range(HEIGHT)]\n",
        "    for robot in robots:\n",
        "        matrix[robot.pos[1]][robot.pos[0]] += 1\n",
        "    return matrix\n",
        "\n",
        "\n",
        "def step_all(robots: list[Robot], n_times: int):\n",
        "    for _ in range(n_times):\n",
        "        for robot in robots:\n",
        "            robot.step()\n"
      ]
    },
    {
      "cell_type": "code",
      "execution_count": 7,
      "metadata": {
        "metadata": {}
      },
      "outputs": [],
      "source": [
        "import numpy as np\n",
        "\n",
        "\n",
        "def safety_factor(matrix: list[list[int]]) -> int:\n",
        "    matrix_np = np.array(matrix)\n",
        "    mid_x = WIDTH // 2\n",
        "    mid_y = HEIGHT // 2\n",
        "    tl = matrix_np[:mid_y, :mid_x]\n",
        "    tr = matrix_np[:mid_y, mid_x + 1 :]\n",
        "    bl = matrix_np[mid_y + 1 :, :mid_x]\n",
        "    br = matrix_np[mid_y + 1 :, mid_x + 1 :]\n",
        "    return tl.sum() * tr.sum() * bl.sum() * br.sum()\n"
      ]
    },
    {
      "cell_type": "code",
      "execution_count": 8,
      "metadata": {
        "metadata": {}
      },
      "outputs": [],
      "source": [
        "robots = [Robot.from_line(line) for line in DATA.split(\"\\n\")]"
      ]
    },
    {
      "cell_type": "code",
      "execution_count": 9,
      "metadata": {
        "metadata": {}
      },
      "outputs": [],
      "source": [
        "matrix = matrix_from_robots(robots)\n"
      ]
    },
    {
      "cell_type": "code",
      "execution_count": 10,
      "metadata": {
        "metadata": {}
      },
      "outputs": [],
      "source": [
        "step_all(robots, 100)"
      ]
    },
    {
      "cell_type": "code",
      "execution_count": 11,
      "metadata": {
        "metadata": {}
      },
      "outputs": [],
      "source": [
        "matrix_stepped = matrix_from_robots(robots)"
      ]
    },
    {
      "cell_type": "code",
      "execution_count": 12,
      "metadata": {
        "metadata": {}
      },
      "outputs": [
        {
          "data": {
            "text/plain": [
              "221655456"
            ]
          },
          "execution_count": 12,
          "metadata": {},
          "output_type": "execute_result"
        }
      ],
      "source": [
        "safety_factor(matrix_stepped)"
      ]
    },
    {
      "cell_type": "code",
      "execution_count": null,
      "metadata": {},
      "outputs": [],
      "source": []
    },
    {
      "cell_type": "code",
      "execution_count": 13,
      "metadata": {
        "metadata": {}
      },
      "outputs": [],
      "source": [
        "robots = [Robot.from_line(line) for line in DATA.split(\"\\n\")]"
      ]
    },
    {
      "cell_type": "code",
      "execution_count": 14,
      "metadata": {
        "metadata": {}
      },
      "outputs": [],
      "source": [
        "all_matricies = [matrix_from_robots(robots)]\n",
        "\n",
        "for _ in range(10_000):\n",
        "    step_all(robots, 1)\n",
        "    all_matricies.append(matrix_from_robots(robots))"
      ]
    },
    {
      "cell_type": "code",
      "execution_count": 15,
      "metadata": {
        "metadata": {}
      },
      "outputs": [],
      "source": [
        "all_matricies_np = np.array(all_matricies)"
      ]
    },
    {
      "cell_type": "code",
      "execution_count": 16,
      "metadata": {
        "metadata": {}
      },
      "outputs": [],
      "source": [
        "def most_dense_vertical(matrix_np: np.ndarray) -> int:\n",
        "    res = 0\n",
        "    for y_idx in range(WIDTH):\n",
        "        v_slice = matrix_np[:, y_idx]\n",
        "        res = max((v_slice > 0).sum(), res)\n",
        "    return res"
      ]
    },
    {
      "cell_type": "code",
      "execution_count": 18,
      "metadata": {
        "metadata": {}
      },
      "outputs": [],
      "source": [
        "counts = [most_dense_vertical(matrix) for matrix in all_matricies_np]"
      ]
    },
    {
      "cell_type": "code",
      "execution_count": 21,
      "metadata": {
        "metadata": {}
      },
      "outputs": [
        {
          "data": {
            "text/plain": [
              "7858"
            ]
          },
          "execution_count": 21,
          "metadata": {},
          "output_type": "execute_result"
        }
      ],
      "source": [
        "np.argmax(counts)"
      ]
    },
    {
      "cell_type": "code",
      "execution_count": null,
      "metadata": {},
      "outputs": [],
      "source": []
    }
  ],
  "metadata": {
    "kernelspec": {
      "display_name": "torchvenv",
      "language": "python",
      "name": "python3"
    },
    "language_info": {
      "codemirror_mode": {
        "name": "ipython",
        "version": 3
      },
      "file_extension": ".py",
      "mimetype": "text/x-python",
      "name": "python",
      "nbconvert_exporter": "python",
      "pygments_lexer": "ipython3",
      "version": "3.11.2"
    }
  },
  "nbformat": 4,
  "nbformat_minor": 2
}
