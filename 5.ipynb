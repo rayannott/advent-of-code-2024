{
 "cells": [
  {
   "cell_type": "code",
   "execution_count": 1,
   "metadata": {
    "metadata": {}
   },
   "outputs": [],
   "source": [
    "import itertools\n",
    "import pathlib\n",
    "import collections\n",
    "import functools\n",
    "\n",
    "DIR = pathlib.Path(\"inputs\")\n",
    "INPUT = DIR / \"5.txt\"\n",
    "\n",
    "DATA = INPUT.read_text()"
   ]
  },
  {
   "cell_type": "code",
   "execution_count": 2,
   "metadata": {
    "metadata": {}
   },
   "outputs": [],
   "source": [
    "LINES = DATA.strip().split(\"\\n\")"
   ]
  },
  {
   "cell_type": "code",
   "execution_count": 3,
   "metadata": {
    "metadata": {}
   },
   "outputs": [],
   "source": [
    "RULES_STR = list(itertools.takewhile(bool, LINES))\n",
    "SEQUENCES_STR = list(itertools.takewhile(bool, reversed(LINES)))"
   ]
  },
  {
   "cell_type": "code",
   "execution_count": 4,
   "metadata": {
    "metadata": {}
   },
   "outputs": [],
   "source": [
    "RULES = [tuple(map(int, line.split(\"|\"))) for line in RULES_STR]"
   ]
  },
  {
   "cell_type": "code",
   "execution_count": 5,
   "metadata": {
    "metadata": {}
   },
   "outputs": [],
   "source": [
    "SEQUENCES = [list(map(int, line.split(\",\"))) for line in SEQUENCES_STR]\n",
    "assert all(len(seq) % 2 == 1 for seq in SEQUENCES)"
   ]
  },
  {
   "cell_type": "code",
   "execution_count": 6,
   "metadata": {
    "metadata": {}
   },
   "outputs": [],
   "source": [
    "before_to_after_map: collections.defaultdict[int, set[int]] = collections.defaultdict(set)\n",
    "\n",
    "for rule in RULES:\n",
    "    before_to_after_map[rule[0]].add(rule[1])"
   ]
  },
  {
   "cell_type": "code",
   "execution_count": 7,
   "metadata": {
    "metadata": {}
   },
   "outputs": [],
   "source": [
    "def is_correct_sequence(seq: list[int]) -> bool:\n",
    "    seen_so_far = set()\n",
    "    for el in seq:\n",
    "        if before_to_after_map[el] & seen_so_far:\n",
    "            return False\n",
    "        seen_so_far.add(el)\n",
    "    return True"
   ]
  },
  {
   "cell_type": "code",
   "execution_count": 8,
   "metadata": {
    "metadata": {}
   },
   "outputs": [
    {
     "data": {
      "text/plain": [
       "5091"
      ]
     },
     "execution_count": 8,
     "metadata": {},
     "output_type": "execute_result"
    }
   ],
   "source": [
    "res = 0\n",
    "\n",
    "for seq in SEQUENCES:\n",
    "    if is_correct_sequence(seq):\n",
    "        res += seq[len(seq) // 2]\n",
    "\n",
    "res"
   ]
  },
  {
   "cell_type": "code",
   "execution_count": 9,
   "metadata": {
    "metadata": {}
   },
   "outputs": [],
   "source": [
    "def fix_sequence(seq: list[int]) -> list[int]:\n",
    "    current_seq = []\n",
    "    for el in seq:\n",
    "        disallow_for_el = before_to_after_map[el]\n",
    "        for i, curr_el in enumerate(current_seq):\n",
    "            if curr_el in disallow_for_el:\n",
    "                current_seq.insert(i, el)\n",
    "                break\n",
    "        else:\n",
    "            current_seq.append(el)\n",
    "    return current_seq"
   ]
  },
  {
   "cell_type": "code",
   "execution_count": 10,
   "metadata": {
    "metadata": {}
   },
   "outputs": [
    {
     "data": {
      "text/plain": [
       "4681"
      ]
     },
     "execution_count": 10,
     "metadata": {},
     "output_type": "execute_result"
    }
   ],
   "source": [
    "res_pt2 = 0\n",
    "\n",
    "for seq in SEQUENCES:\n",
    "    if is_correct_sequence(seq):\n",
    "        continue\n",
    "    res_pt2 += fix_sequence(seq)[len(seq) // 2]\n",
    "\n",
    "res_pt2"
   ]
  },
  {
   "cell_type": "markdown",
   "metadata": {},
   "source": [
    "second part alternative solution using custom sorting rule"
   ]
  },
  {
   "cell_type": "code",
   "execution_count": 11,
   "metadata": {
    "metadata": {}
   },
   "outputs": [],
   "source": [
    "RULES_SET = set(RULES)"
   ]
  },
  {
   "cell_type": "code",
   "execution_count": 12,
   "metadata": {
    "metadata": {}
   },
   "outputs": [],
   "source": [
    "def fix_sequence_sort(seq: list[int]) -> list[int]:\n",
    "    seq_fixed = sorted(\n",
    "        seq,\n",
    "        key=functools.cmp_to_key(lambda *rule: -1 * (rule in RULES_SET)),\n",
    "    )\n",
    "    return seq_fixed\n"
   ]
  },
  {
   "cell_type": "code",
   "execution_count": 13,
   "metadata": {
    "metadata": {}
   },
   "outputs": [
    {
     "data": {
      "text/plain": [
       "4681"
      ]
     },
     "execution_count": 13,
     "metadata": {},
     "output_type": "execute_result"
    }
   ],
   "source": [
    "res_pt2_v2 = 0\n",
    "\n",
    "for seq in SEQUENCES:\n",
    "    if is_correct_sequence(seq):\n",
    "        continue\n",
    "    res_pt2_v2 += fix_sequence_sort(seq)[len(seq) // 2]\n",
    "\n",
    "res_pt2_v2"
   ]
  }
 ],
 "metadata": {
  "kernelspec": {
   "display_name": "torchvenv",
   "language": "python",
   "name": "python3"
  },
  "language_info": {
   "codemirror_mode": {
    "name": "ipython",
    "version": 3
   },
   "file_extension": ".py",
   "mimetype": "text/x-python",
   "name": "python",
   "nbconvert_exporter": "python",
   "pygments_lexer": "ipython3",
   "version": "3.11.2"
  }
 },
 "nbformat": 4,
 "nbformat_minor": 2
}
