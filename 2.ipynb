{
 "cells": [
  {
   "cell_type": "code",
   "execution_count": 1,
   "metadata": {
    "metadata": {}
   },
   "outputs": [],
   "source": [
    "import pathlib\n",
    "import itertools\n",
    "import operator\n",
    "import collections"
   ]
  },
  {
   "cell_type": "code",
   "execution_count": 2,
   "metadata": {
    "metadata": {}
   },
   "outputs": [],
   "source": [
    "DIR = pathlib.Path(\"inputs\")\n",
    "INPUT = DIR / \"2.txt\""
   ]
  },
  {
   "cell_type": "code",
   "execution_count": 3,
   "metadata": {
    "metadata": {}
   },
   "outputs": [],
   "source": [
    "lines = [list(map(int, line.split())) for line in INPUT.read_text().split(\"\\n\")]"
   ]
  },
  {
   "cell_type": "code",
   "execution_count": 4,
   "metadata": {
    "metadata": {}
   },
   "outputs": [],
   "source": [
    "def is_safe(line: list[int]) -> bool:\n",
    "    deltas = set(itertools.starmap(operator.sub, itertools.pairwise(line)))\n",
    "    return deltas.issubset({1, 2, 3}) or deltas.issubset({-1, -2, -3})"
   ]
  },
  {
   "cell_type": "code",
   "execution_count": 5,
   "metadata": {
    "metadata": {}
   },
   "outputs": [
    {
     "data": {
      "text/plain": [
       "680"
      ]
     },
     "execution_count": 5,
     "metadata": {},
     "output_type": "execute_result"
    }
   ],
   "source": [
    "sum(map(is_safe, lines))"
   ]
  },
  {
   "cell_type": "code",
   "execution_count": 6,
   "metadata": {
    "metadata": {}
   },
   "outputs": [],
   "source": [
    "def is_safe_dumpened_v1(line: list[int]) -> bool:\n",
    "    def deltas_ok(deltas_: list[int]) -> bool:\n",
    "        deltas_set = set(deltas_)\n",
    "        return deltas_set.issubset({1, 2, 3}) or deltas_set.issubset({-1, -2, -3})\n",
    "\n",
    "    deltas = list(itertools.starmap(operator.sub, itertools.pairwise(line)))\n",
    "    if deltas_ok(deltas):\n",
    "        return True\n",
    "\n",
    "    def sign(a: int) -> int:\n",
    "        return 0 if a == 0 else a // abs(a)\n",
    "\n",
    "    sign_cnt = collections.Counter(map(sign, deltas))\n",
    "    most_common_sign = sign_cnt.most_common()[0][0]\n",
    "    if most_common_sign == 0:\n",
    "        return False\n",
    "    \n",
    "    anomalies = sign_cnt[-most_common_sign] + sign_cnt[0]\n",
    "    if anomalies > 1:\n",
    "        return False\n",
    "\n",
    "    for anomaly_index, d in enumerate(deltas):\n",
    "        if sign(d) in {0, -most_common_sign}:\n",
    "            break\n",
    "\n",
    "\n",
    "    line.pop(anomaly_index)\n",
    "\n",
    "    return is_safe(line)\n"
   ]
  },
  {
   "cell_type": "code",
   "execution_count": 7,
   "metadata": {
    "metadata": {}
   },
   "outputs": [],
   "source": [
    "def is_safe_dumpened_bf(line: list[int]) -> bool:\n",
    "    for i in range(len(line)):\n",
    "        line_cp = line.copy()\n",
    "        line_cp.pop(i)\n",
    "        if is_safe(line_cp):\n",
    "            return True\n",
    "    return False\n"
   ]
  },
  {
   "cell_type": "code",
   "execution_count": 8,
   "metadata": {
    "metadata": {}
   },
   "outputs": [
    {
     "data": {
      "text/plain": [
       "710"
      ]
     },
     "execution_count": 8,
     "metadata": {},
     "output_type": "execute_result"
    }
   ],
   "source": [
    "sum(map(is_safe_dumpened_bf, lines))"
   ]
  }
 ],
 "metadata": {
  "kernelspec": {
   "display_name": "torchvenv",
   "language": "python",
   "name": "python3"
  },
  "language_info": {
   "codemirror_mode": {
    "name": "ipython",
    "version": 3
   },
   "file_extension": ".py",
   "mimetype": "text/x-python",
   "name": "python",
   "nbconvert_exporter": "python",
   "pygments_lexer": "ipython3",
   "version": "3.11.2"
  }
 },
 "nbformat": 4,
 "nbformat_minor": 2
}
