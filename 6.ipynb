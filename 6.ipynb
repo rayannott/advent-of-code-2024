{
 "cells": [
  {
   "cell_type": "code",
   "execution_count": null,
   "metadata": {
    "metadata": {}
   },
   "outputs": [],
   "source": [
    "import pathlib\n",
    "\n",
    "DIR = pathlib.Path(\"inputs\")\n",
    "INPUT = DIR / \"6.txt\"\n",
    "\n",
    "DATA = INPUT.read_text()"
   ]
  },
  {
   "cell_type": "code",
   "execution_count": null,
   "metadata": {
    "metadata": {}
   },
   "outputs": [],
   "source": [
    "MATRIX = [list(line) for line in DATA.strip().split(\"\\n\")]\n",
    "HEIGHT = len(MATRIX)\n",
    "WIDTH = len(MATRIX[0])"
   ]
  },
  {
   "cell_type": "code",
   "execution_count": null,
   "metadata": {
    "metadata": {}
   },
   "outputs": [],
   "source": [
    "DIRECTIONS = [(-1, 0), (0, 1), (1, 0), (0, -1)]"
   ]
  },
  {
   "cell_type": "code",
   "execution_count": null,
   "metadata": {
    "metadata": {}
   },
   "outputs": [],
   "source": [
    "Point = tuple[int, int]\n",
    "\n",
    "\n",
    "def add(p1: Point, p2: Point) -> Point:\n",
    "    return p1[0] + p2[0], p1[1] + p2[1]"
   ]
  },
  {
   "cell_type": "code",
   "execution_count": null,
   "metadata": {
    "metadata": {}
   },
   "outputs": [],
   "source": [
    "def find_starting_point() -> Point:\n",
    "    for row_id, row in enumerate(MATRIX):\n",
    "        for col_id, el in enumerate(row):\n",
    "            if el == \"^\":\n",
    "                return (row_id, col_id)\n",
    "    raise ValueError"
   ]
  },
  {
   "cell_type": "code",
   "execution_count": null,
   "metadata": {
    "metadata": {}
   },
   "outputs": [],
   "source": [
    "curr_pos = find_starting_point()\n",
    "\n",
    "curr_dir = 0\n",
    "\n",
    "visited: set[Point] = {curr_pos}\n",
    "\n",
    "while True:\n",
    "    potential_pos = add(curr_pos, DIRECTIONS[curr_dir])\n",
    "    if not (0 <= potential_pos[0] < HEIGHT and 0 <= potential_pos[1] < WIDTH):\n",
    "        break\n",
    "    if MATRIX[potential_pos[0]][potential_pos[1]] == \"#\":\n",
    "        # turn right\n",
    "        curr_dir = (curr_dir + 1) % 4\n",
    "    else:\n",
    "        # move forward\n",
    "        curr_pos = potential_pos\n",
    "        visited.add(curr_pos)\n",
    "\n",
    "len(visited)"
   ]
  },
  {
   "cell_type": "code",
   "execution_count": null,
   "metadata": {
    "metadata": {}
   },
   "outputs": [],
   "source": [
    "curr_pos_this = find_starting_point()\n",
    "\n",
    "\n",
    "def gets_stuck(obstruction_at: Point) -> bool:\n",
    "    def at(pos: Point) -> str:\n",
    "        return \"#\" if pos == obstruction_at else MATRIX[pos[0]][pos[1]]\n",
    "\n",
    "    curr_pos = curr_pos_this\n",
    "    curr_dir = 0\n",
    "\n",
    "    visited_facing: set[tuple[Point, int]] = {(curr_pos, curr_dir)}\n",
    "\n",
    "    while True:\n",
    "        potential_pos = add(curr_pos, DIRECTIONS[curr_dir])\n",
    "        if not (0 <= potential_pos[0] < HEIGHT and 0 <= potential_pos[1] < WIDTH):\n",
    "            break\n",
    "        if at(potential_pos) == \"#\":\n",
    "            # turn right\n",
    "            curr_dir = (curr_dir + 1) % 4\n",
    "        else:\n",
    "            # move forward\n",
    "            curr_pos = potential_pos\n",
    "            if (curr_pos, curr_dir) in visited_facing:\n",
    "                return True\n",
    "            visited_facing.add((curr_pos, curr_dir))\n",
    "    return False"
   ]
  },
  {
   "cell_type": "code",
   "execution_count": null,
   "metadata": {
    "metadata": {}
   },
   "outputs": [],
   "source": [
    "def find_obstructions() -> list[Point]:\n",
    "    res = []\n",
    "    for i in range(HEIGHT):\n",
    "        for j in range(WIDTH):\n",
    "            print(i, j, end='\\r')\n",
    "            if MATRIX[i][j] != '#' and gets_stuck((i, j)):\n",
    "                res.append((i, j))\n",
    "    return res"
   ]
  },
  {
   "cell_type": "code",
   "execution_count": null,
   "metadata": {
    "metadata": {}
   },
   "outputs": [],
   "source": [
    "len(find_obstructions())"
   ]
  }
 ],
 "metadata": {
  "kernelspec": {
   "display_name": "torchvenv",
   "language": "python",
   "name": "python3"
  },
  "language_info": {
   "codemirror_mode": {
    "name": "ipython",
    "version": 3
   },
   "file_extension": ".py",
   "mimetype": "text/x-python",
   "name": "python",
   "nbconvert_exporter": "python",
   "pygments_lexer": "ipython3",
   "version": "3.12.1"
  }
 },
 "nbformat": 4,
 "nbformat_minor": 2
}
