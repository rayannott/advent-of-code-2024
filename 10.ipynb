{
 "cells": [
  {
   "cell_type": "code",
   "execution_count": 1,
   "metadata": {
    "metadata": {}
   },
   "outputs": [],
   "source": [
    "import pathlib\n",
    "\n",
    "DIR = pathlib.Path(\"inputs\")\n",
    "INPUT = DIR / \"10.txt\"\n",
    "\n",
    "DATA = INPUT.read_text()"
   ]
  },
  {
   "cell_type": "code",
   "execution_count": 2,
   "metadata": {
    "metadata": {}
   },
   "outputs": [],
   "source": [
    "import itertools\n",
    "import collections"
   ]
  },
  {
   "cell_type": "code",
   "execution_count": 3,
   "metadata": {
    "metadata": {}
   },
   "outputs": [],
   "source": [
    "DATA = '''89010123\n",
    "78121874\n",
    "87430965\n",
    "96549874\n",
    "45678903\n",
    "32019012\n",
    "01329801\n",
    "10456732'''"
   ]
  },
  {
   "cell_type": "code",
   "execution_count": 4,
   "metadata": {
    "metadata": {}
   },
   "outputs": [],
   "source": [
    "MATRIX = [list(line) for line in DATA.strip().split(\"\\n\")]\n",
    "HEIGHT = len(MATRIX)\n",
    "WIDTH = len(MATRIX[0])"
   ]
  },
  {
   "cell_type": "code",
   "execution_count": 5,
   "metadata": {
    "metadata": {}
   },
   "outputs": [],
   "source": [
    "Point = tuple[int, int]\n",
    "\n",
    "\n",
    "def at(pos: Point) -> str:\n",
    "    return MATRIX[pos[0]][pos[1]]\n",
    "\n",
    "\n",
    "def add(p1: Point, p2: Point) -> Point:\n",
    "    return p1[0] + p2[0], p1[1] + p2[1]\n",
    "\n",
    "\n",
    "def is_inside_matrix(p: Point) -> bool:\n",
    "    return 0 <= p[0] < HEIGHT and 0 <= p[1] < WIDTH\n",
    "\n",
    "\n",
    "DIRECTIONS = [Point(tup) for tup in ((-1, 0), (0, 1), (1, 0), (0, -1))]\n"
   ]
  },
  {
   "cell_type": "code",
   "execution_count": 6,
   "metadata": {
    "metadata": {}
   },
   "outputs": [],
   "source": [
    "def build_graph() -> dict[Point, list[Point]]:\n",
    "    adj_list = collections.defaultdict(list)\n",
    "    for i in range(HEIGHT):\n",
    "        for j in range(WIDTH):\n",
    "            pos = i, j\n",
    "            val = at(pos)\n",
    "            if val == \".\":\n",
    "                continue\n",
    "            for dir_ in DIRECTIONS:\n",
    "                potential_neighbor = add(pos, dir_)\n",
    "                if not is_inside_matrix(potential_neighbor):\n",
    "                    continue\n",
    "                nei_val = at(potential_neighbor)\n",
    "                if int(nei_val) - int(val) != 1:\n",
    "                    continue\n",
    "                adj_list[pos].append(potential_neighbor)\n",
    "    return adj_list\n",
    "\n",
    "\n",
    "def find_trailheads() -> list[Point]:\n",
    "    return [\n",
    "        (i, j)\n",
    "        for i, row in enumerate(MATRIX) \n",
    "        for j, el in enumerate(row) if el == \"0\"\n",
    "    ]\n",
    "\n",
    "\n",
    "def find_nines_from(start_pos: Point) -> list[Point]:\n",
    "    nines = []\n",
    "\n",
    "    adj_list = build_graph()\n",
    "\n",
    "    stack: list[Point] = [start_pos]\n",
    "\n",
    "    while stack:\n",
    "        curr = stack.pop()\n",
    "        if at(curr) == \"9\":\n",
    "            nines.append(curr)\n",
    "            continue\n",
    "        stack.extend(adj_list.get(curr, []))\n",
    "\n",
    "    return nines\n"
   ]
  },
  {
   "cell_type": "code",
   "execution_count": 7,
   "metadata": {
    "metadata": {}
   },
   "outputs": [
    {
     "data": {
      "text/plain": [
       "81"
      ]
     },
     "execution_count": 7,
     "metadata": {},
     "output_type": "execute_result"
    }
   ],
   "source": [
    "res = 0\n",
    "\n",
    "for nine in find_trailheads():\n",
    "    # this_nine = len(set(find_nines_from(nine)))  # pt1\n",
    "    this_nine = len(find_nines_from(nine))  # pt2\n",
    "    res += this_nine\n",
    "\n",
    "res"
   ]
  }
 ],
 "metadata": {
  "kernelspec": {
   "display_name": "torchvenv",
   "language": "python",
   "name": "python3"
  },
  "language_info": {
   "codemirror_mode": {
    "name": "ipython",
    "version": 3
   },
   "file_extension": ".py",
   "mimetype": "text/x-python",
   "name": "python",
   "nbconvert_exporter": "python",
   "pygments_lexer": "ipython3",
   "version": "3.12.0"
  }
 },
 "nbformat": 4,
 "nbformat_minor": 2
}
